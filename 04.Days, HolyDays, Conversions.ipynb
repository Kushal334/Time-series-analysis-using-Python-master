{
 "cells": [
  {
   "cell_type": "code",
   "execution_count": 1,
   "metadata": {},
   "outputs": [],
   "source": [
    "import pandas as pd"
   ]
  },
  {
   "cell_type": "code",
   "execution_count": 2,
   "metadata": {},
   "outputs": [],
   "source": [
    "df=pd.read_csv(\"HistoricalQuotes.csv\")"
   ]
  },
  {
   "cell_type": "code",
   "execution_count": 3,
   "metadata": {},
   "outputs": [
    {
     "data": {
      "text/html": [
       "<div>\n",
       "<style scoped>\n",
       "    .dataframe tbody tr th:only-of-type {\n",
       "        vertical-align: middle;\n",
       "    }\n",
       "\n",
       "    .dataframe tbody tr th {\n",
       "        vertical-align: top;\n",
       "    }\n",
       "\n",
       "    .dataframe thead th {\n",
       "        text-align: right;\n",
       "    }\n",
       "</style>\n",
       "<table border=\"1\" class=\"dataframe\">\n",
       "  <thead>\n",
       "    <tr style=\"text-align: right;\">\n",
       "      <th></th>\n",
       "      <th>date</th>\n",
       "      <th>close</th>\n",
       "      <th>volume</th>\n",
       "      <th>open</th>\n",
       "      <th>high</th>\n",
       "      <th>low</th>\n",
       "    </tr>\n",
       "  </thead>\n",
       "  <tbody>\n",
       "    <tr>\n",
       "      <th>0</th>\n",
       "      <td>16:00</td>\n",
       "      <td>200.99</td>\n",
       "      <td>24,619,446</td>\n",
       "      <td>201.230</td>\n",
       "      <td>202.7600</td>\n",
       "      <td>199.2900</td>\n",
       "    </tr>\n",
       "    <tr>\n",
       "      <th>1</th>\n",
       "      <td>2019/08/09</td>\n",
       "      <td>200.99</td>\n",
       "      <td>24619750.0000</td>\n",
       "      <td>201.300</td>\n",
       "      <td>202.7600</td>\n",
       "      <td>199.2900</td>\n",
       "    </tr>\n",
       "    <tr>\n",
       "      <th>2</th>\n",
       "      <td>2019/08/08</td>\n",
       "      <td>203.43</td>\n",
       "      <td>27009520.0000</td>\n",
       "      <td>200.200</td>\n",
       "      <td>203.5300</td>\n",
       "      <td>199.3900</td>\n",
       "    </tr>\n",
       "    <tr>\n",
       "      <th>3</th>\n",
       "      <td>2019/08/07</td>\n",
       "      <td>199.04</td>\n",
       "      <td>33364400.0000</td>\n",
       "      <td>195.410</td>\n",
       "      <td>199.5600</td>\n",
       "      <td>193.8200</td>\n",
       "    </tr>\n",
       "    <tr>\n",
       "      <th>4</th>\n",
       "      <td>2019/08/06</td>\n",
       "      <td>197.00</td>\n",
       "      <td>35824790.0000</td>\n",
       "      <td>196.310</td>\n",
       "      <td>198.0670</td>\n",
       "      <td>194.0400</td>\n",
       "    </tr>\n",
       "    <tr>\n",
       "      <th>5</th>\n",
       "      <td>2019/08/05</td>\n",
       "      <td>193.34</td>\n",
       "      <td>52392970.0000</td>\n",
       "      <td>197.990</td>\n",
       "      <td>198.6490</td>\n",
       "      <td>192.5800</td>\n",
       "    </tr>\n",
       "    <tr>\n",
       "      <th>6</th>\n",
       "      <td>2019/08/02</td>\n",
       "      <td>204.02</td>\n",
       "      <td>40862120.0000</td>\n",
       "      <td>205.530</td>\n",
       "      <td>206.4300</td>\n",
       "      <td>201.6300</td>\n",
       "    </tr>\n",
       "    <tr>\n",
       "      <th>7</th>\n",
       "      <td>2019/08/01</td>\n",
       "      <td>208.43</td>\n",
       "      <td>54017920.0000</td>\n",
       "      <td>213.900</td>\n",
       "      <td>218.0300</td>\n",
       "      <td>206.7435</td>\n",
       "    </tr>\n",
       "    <tr>\n",
       "      <th>8</th>\n",
       "      <td>2019/07/31</td>\n",
       "      <td>213.04</td>\n",
       "      <td>69281360.0000</td>\n",
       "      <td>216.420</td>\n",
       "      <td>221.3700</td>\n",
       "      <td>211.3000</td>\n",
       "    </tr>\n",
       "    <tr>\n",
       "      <th>9</th>\n",
       "      <td>2019/07/30</td>\n",
       "      <td>208.78</td>\n",
       "      <td>33935720.0000</td>\n",
       "      <td>208.760</td>\n",
       "      <td>210.1600</td>\n",
       "      <td>207.3100</td>\n",
       "    </tr>\n",
       "    <tr>\n",
       "      <th>10</th>\n",
       "      <td>2019/07/29</td>\n",
       "      <td>209.68</td>\n",
       "      <td>21673390.0000</td>\n",
       "      <td>208.460</td>\n",
       "      <td>210.6400</td>\n",
       "      <td>208.4400</td>\n",
       "    </tr>\n",
       "    <tr>\n",
       "      <th>11</th>\n",
       "      <td>2019/07/26</td>\n",
       "      <td>207.74</td>\n",
       "      <td>17618870.0000</td>\n",
       "      <td>207.480</td>\n",
       "      <td>209.7300</td>\n",
       "      <td>207.1400</td>\n",
       "    </tr>\n",
       "    <tr>\n",
       "      <th>12</th>\n",
       "      <td>2019/07/25</td>\n",
       "      <td>207.02</td>\n",
       "      <td>13909560.0000</td>\n",
       "      <td>208.890</td>\n",
       "      <td>209.2400</td>\n",
       "      <td>206.7300</td>\n",
       "    </tr>\n",
       "    <tr>\n",
       "      <th>13</th>\n",
       "      <td>2019/07/24</td>\n",
       "      <td>208.67</td>\n",
       "      <td>14991570.0000</td>\n",
       "      <td>207.670</td>\n",
       "      <td>209.1500</td>\n",
       "      <td>207.1700</td>\n",
       "    </tr>\n",
       "    <tr>\n",
       "      <th>14</th>\n",
       "      <td>2019/07/23</td>\n",
       "      <td>208.84</td>\n",
       "      <td>18355210.0000</td>\n",
       "      <td>208.460</td>\n",
       "      <td>208.9100</td>\n",
       "      <td>207.2900</td>\n",
       "    </tr>\n",
       "    <tr>\n",
       "      <th>15</th>\n",
       "      <td>2019/07/22</td>\n",
       "      <td>207.22</td>\n",
       "      <td>22277930.0000</td>\n",
       "      <td>203.650</td>\n",
       "      <td>207.2300</td>\n",
       "      <td>203.6100</td>\n",
       "    </tr>\n",
       "    <tr>\n",
       "      <th>16</th>\n",
       "      <td>2019/07/19</td>\n",
       "      <td>202.59</td>\n",
       "      <td>20929310.0000</td>\n",
       "      <td>205.790</td>\n",
       "      <td>206.5000</td>\n",
       "      <td>202.3600</td>\n",
       "    </tr>\n",
       "    <tr>\n",
       "      <th>17</th>\n",
       "      <td>2019/07/18</td>\n",
       "      <td>205.66</td>\n",
       "      <td>18582160.0000</td>\n",
       "      <td>204.000</td>\n",
       "      <td>205.8800</td>\n",
       "      <td>203.7000</td>\n",
       "    </tr>\n",
       "    <tr>\n",
       "      <th>18</th>\n",
       "      <td>2019/07/17</td>\n",
       "      <td>203.35</td>\n",
       "      <td>14107450.0000</td>\n",
       "      <td>204.050</td>\n",
       "      <td>205.0915</td>\n",
       "      <td>203.2700</td>\n",
       "    </tr>\n",
       "    <tr>\n",
       "      <th>19</th>\n",
       "      <td>2019/07/16</td>\n",
       "      <td>204.50</td>\n",
       "      <td>16866820.0000</td>\n",
       "      <td>204.590</td>\n",
       "      <td>206.1100</td>\n",
       "      <td>203.5000</td>\n",
       "    </tr>\n",
       "    <tr>\n",
       "      <th>20</th>\n",
       "      <td>2019/07/15</td>\n",
       "      <td>205.21</td>\n",
       "      <td>16947420.0000</td>\n",
       "      <td>204.090</td>\n",
       "      <td>205.8700</td>\n",
       "      <td>204.0000</td>\n",
       "    </tr>\n",
       "    <tr>\n",
       "      <th>21</th>\n",
       "      <td>2019/07/12</td>\n",
       "      <td>203.30</td>\n",
       "      <td>17595210.0000</td>\n",
       "      <td>202.450</td>\n",
       "      <td>204.0000</td>\n",
       "      <td>202.2000</td>\n",
       "    </tr>\n",
       "    <tr>\n",
       "      <th>22</th>\n",
       "      <td>2019/07/11</td>\n",
       "      <td>201.75</td>\n",
       "      <td>20191840.0000</td>\n",
       "      <td>203.310</td>\n",
       "      <td>204.3900</td>\n",
       "      <td>201.7100</td>\n",
       "    </tr>\n",
       "    <tr>\n",
       "      <th>23</th>\n",
       "      <td>2019/07/10</td>\n",
       "      <td>203.23</td>\n",
       "      <td>17897140.0000</td>\n",
       "      <td>201.850</td>\n",
       "      <td>203.7300</td>\n",
       "      <td>201.5600</td>\n",
       "    </tr>\n",
       "    <tr>\n",
       "      <th>24</th>\n",
       "      <td>2019/07/09</td>\n",
       "      <td>201.24</td>\n",
       "      <td>20578020.0000</td>\n",
       "      <td>199.200</td>\n",
       "      <td>201.5100</td>\n",
       "      <td>198.8100</td>\n",
       "    </tr>\n",
       "    <tr>\n",
       "      <th>25</th>\n",
       "      <td>2019/07/08</td>\n",
       "      <td>200.02</td>\n",
       "      <td>25338630.0000</td>\n",
       "      <td>200.810</td>\n",
       "      <td>201.4000</td>\n",
       "      <td>198.4100</td>\n",
       "    </tr>\n",
       "    <tr>\n",
       "      <th>26</th>\n",
       "      <td>2019/07/05</td>\n",
       "      <td>204.23</td>\n",
       "      <td>17265520.0000</td>\n",
       "      <td>203.350</td>\n",
       "      <td>205.0800</td>\n",
       "      <td>202.9000</td>\n",
       "    </tr>\n",
       "    <tr>\n",
       "      <th>27</th>\n",
       "      <td>2019/07/03</td>\n",
       "      <td>204.41</td>\n",
       "      <td>11362050.0000</td>\n",
       "      <td>203.280</td>\n",
       "      <td>204.4400</td>\n",
       "      <td>202.6901</td>\n",
       "    </tr>\n",
       "    <tr>\n",
       "      <th>28</th>\n",
       "      <td>2019/07/02</td>\n",
       "      <td>202.73</td>\n",
       "      <td>16935220.0000</td>\n",
       "      <td>201.410</td>\n",
       "      <td>203.1323</td>\n",
       "      <td>201.3600</td>\n",
       "    </tr>\n",
       "    <tr>\n",
       "      <th>29</th>\n",
       "      <td>2019/07/01</td>\n",
       "      <td>201.55</td>\n",
       "      <td>27316740.0000</td>\n",
       "      <td>203.170</td>\n",
       "      <td>204.4900</td>\n",
       "      <td>200.6500</td>\n",
       "    </tr>\n",
       "    <tr>\n",
       "      <th>...</th>\n",
       "      <td>...</td>\n",
       "      <td>...</td>\n",
       "      <td>...</td>\n",
       "      <td>...</td>\n",
       "      <td>...</td>\n",
       "      <td>...</td>\n",
       "    </tr>\n",
       "    <tr>\n",
       "      <th>223</th>\n",
       "      <td>2018/09/20</td>\n",
       "      <td>220.03</td>\n",
       "      <td>26388050.0000</td>\n",
       "      <td>220.240</td>\n",
       "      <td>222.2800</td>\n",
       "      <td>219.1500</td>\n",
       "    </tr>\n",
       "    <tr>\n",
       "      <th>224</th>\n",
       "      <td>2018/09/19</td>\n",
       "      <td>218.37</td>\n",
       "      <td>26869880.0000</td>\n",
       "      <td>218.500</td>\n",
       "      <td>219.6200</td>\n",
       "      <td>215.3000</td>\n",
       "    </tr>\n",
       "    <tr>\n",
       "      <th>225</th>\n",
       "      <td>2018/09/18</td>\n",
       "      <td>218.24</td>\n",
       "      <td>31495630.0000</td>\n",
       "      <td>217.790</td>\n",
       "      <td>221.8500</td>\n",
       "      <td>217.1200</td>\n",
       "    </tr>\n",
       "    <tr>\n",
       "      <th>226</th>\n",
       "      <td>2018/09/17</td>\n",
       "      <td>217.88</td>\n",
       "      <td>36810120.0000</td>\n",
       "      <td>222.150</td>\n",
       "      <td>222.9500</td>\n",
       "      <td>217.2700</td>\n",
       "    </tr>\n",
       "    <tr>\n",
       "      <th>227</th>\n",
       "      <td>2018/09/14</td>\n",
       "      <td>223.84</td>\n",
       "      <td>31801970.0000</td>\n",
       "      <td>225.750</td>\n",
       "      <td>226.8400</td>\n",
       "      <td>222.5220</td>\n",
       "    </tr>\n",
       "    <tr>\n",
       "      <th>228</th>\n",
       "      <td>2018/09/13</td>\n",
       "      <td>226.41</td>\n",
       "      <td>41411350.0000</td>\n",
       "      <td>223.520</td>\n",
       "      <td>228.3500</td>\n",
       "      <td>222.5700</td>\n",
       "    </tr>\n",
       "    <tr>\n",
       "      <th>229</th>\n",
       "      <td>2018/09/12</td>\n",
       "      <td>221.07</td>\n",
       "      <td>49118510.0000</td>\n",
       "      <td>224.940</td>\n",
       "      <td>225.0000</td>\n",
       "      <td>219.8400</td>\n",
       "    </tr>\n",
       "    <tr>\n",
       "      <th>230</th>\n",
       "      <td>2018/09/11</td>\n",
       "      <td>223.85</td>\n",
       "      <td>35644510.0000</td>\n",
       "      <td>218.010</td>\n",
       "      <td>224.2990</td>\n",
       "      <td>216.5600</td>\n",
       "    </tr>\n",
       "    <tr>\n",
       "      <th>231</th>\n",
       "      <td>2018/09/10</td>\n",
       "      <td>218.33</td>\n",
       "      <td>39194720.0000</td>\n",
       "      <td>220.950</td>\n",
       "      <td>221.8500</td>\n",
       "      <td>216.4700</td>\n",
       "    </tr>\n",
       "    <tr>\n",
       "      <th>232</th>\n",
       "      <td>2018/09/07</td>\n",
       "      <td>221.30</td>\n",
       "      <td>37418910.0000</td>\n",
       "      <td>221.850</td>\n",
       "      <td>225.3700</td>\n",
       "      <td>220.7100</td>\n",
       "    </tr>\n",
       "    <tr>\n",
       "      <th>233</th>\n",
       "      <td>2018/09/06</td>\n",
       "      <td>223.10</td>\n",
       "      <td>34121240.0000</td>\n",
       "      <td>226.230</td>\n",
       "      <td>227.3500</td>\n",
       "      <td>221.3000</td>\n",
       "    </tr>\n",
       "    <tr>\n",
       "      <th>234</th>\n",
       "      <td>2018/09/05</td>\n",
       "      <td>226.87</td>\n",
       "      <td>33290830.0000</td>\n",
       "      <td>228.990</td>\n",
       "      <td>229.6700</td>\n",
       "      <td>225.1000</td>\n",
       "    </tr>\n",
       "    <tr>\n",
       "      <th>235</th>\n",
       "      <td>2018/09/04</td>\n",
       "      <td>228.36</td>\n",
       "      <td>27363960.0000</td>\n",
       "      <td>228.410</td>\n",
       "      <td>229.1800</td>\n",
       "      <td>226.6300</td>\n",
       "    </tr>\n",
       "    <tr>\n",
       "      <th>236</th>\n",
       "      <td>2018/08/31</td>\n",
       "      <td>227.63</td>\n",
       "      <td>43177540.0000</td>\n",
       "      <td>226.510</td>\n",
       "      <td>228.8700</td>\n",
       "      <td>226.0000</td>\n",
       "    </tr>\n",
       "    <tr>\n",
       "      <th>237</th>\n",
       "      <td>2018/08/30</td>\n",
       "      <td>225.03</td>\n",
       "      <td>48696960.0000</td>\n",
       "      <td>223.250</td>\n",
       "      <td>228.2600</td>\n",
       "      <td>222.4000</td>\n",
       "    </tr>\n",
       "    <tr>\n",
       "      <th>238</th>\n",
       "      <td>2018/08/29</td>\n",
       "      <td>222.98</td>\n",
       "      <td>27074260.0000</td>\n",
       "      <td>220.150</td>\n",
       "      <td>223.4900</td>\n",
       "      <td>219.4100</td>\n",
       "    </tr>\n",
       "    <tr>\n",
       "      <th>239</th>\n",
       "      <td>2018/08/28</td>\n",
       "      <td>219.70</td>\n",
       "      <td>22751390.0000</td>\n",
       "      <td>219.010</td>\n",
       "      <td>220.5400</td>\n",
       "      <td>218.9200</td>\n",
       "    </tr>\n",
       "    <tr>\n",
       "      <th>240</th>\n",
       "      <td>2018/08/27</td>\n",
       "      <td>217.94</td>\n",
       "      <td>20400770.0000</td>\n",
       "      <td>217.150</td>\n",
       "      <td>218.7400</td>\n",
       "      <td>216.3300</td>\n",
       "    </tr>\n",
       "    <tr>\n",
       "      <th>241</th>\n",
       "      <td>2018/08/24</td>\n",
       "      <td>216.16</td>\n",
       "      <td>18457720.0000</td>\n",
       "      <td>216.600</td>\n",
       "      <td>216.9000</td>\n",
       "      <td>215.1100</td>\n",
       "    </tr>\n",
       "    <tr>\n",
       "      <th>242</th>\n",
       "      <td>2018/08/23</td>\n",
       "      <td>215.49</td>\n",
       "      <td>18505780.0000</td>\n",
       "      <td>214.650</td>\n",
       "      <td>217.0500</td>\n",
       "      <td>214.6000</td>\n",
       "    </tr>\n",
       "    <tr>\n",
       "      <th>243</th>\n",
       "      <td>2018/08/22</td>\n",
       "      <td>215.05</td>\n",
       "      <td>18965930.0000</td>\n",
       "      <td>214.100</td>\n",
       "      <td>216.3600</td>\n",
       "      <td>213.8400</td>\n",
       "    </tr>\n",
       "    <tr>\n",
       "      <th>244</th>\n",
       "      <td>2018/08/21</td>\n",
       "      <td>215.04</td>\n",
       "      <td>25682700.0000</td>\n",
       "      <td>216.800</td>\n",
       "      <td>217.1900</td>\n",
       "      <td>214.0250</td>\n",
       "    </tr>\n",
       "    <tr>\n",
       "      <th>245</th>\n",
       "      <td>2018/08/20</td>\n",
       "      <td>215.46</td>\n",
       "      <td>30149410.0000</td>\n",
       "      <td>218.100</td>\n",
       "      <td>219.1800</td>\n",
       "      <td>215.1100</td>\n",
       "    </tr>\n",
       "    <tr>\n",
       "      <th>246</th>\n",
       "      <td>2018/08/17</td>\n",
       "      <td>217.58</td>\n",
       "      <td>35034410.0000</td>\n",
       "      <td>213.440</td>\n",
       "      <td>217.9500</td>\n",
       "      <td>213.1600</td>\n",
       "    </tr>\n",
       "    <tr>\n",
       "      <th>247</th>\n",
       "      <td>2018/08/16</td>\n",
       "      <td>213.32</td>\n",
       "      <td>27595310.0000</td>\n",
       "      <td>211.750</td>\n",
       "      <td>213.8121</td>\n",
       "      <td>211.4700</td>\n",
       "    </tr>\n",
       "    <tr>\n",
       "      <th>248</th>\n",
       "      <td>2018/08/15</td>\n",
       "      <td>210.24</td>\n",
       "      <td>28595230.0000</td>\n",
       "      <td>209.220</td>\n",
       "      <td>210.7400</td>\n",
       "      <td>208.3300</td>\n",
       "    </tr>\n",
       "    <tr>\n",
       "      <th>249</th>\n",
       "      <td>2018/08/14</td>\n",
       "      <td>209.75</td>\n",
       "      <td>20679270.0000</td>\n",
       "      <td>210.155</td>\n",
       "      <td>210.5600</td>\n",
       "      <td>208.2600</td>\n",
       "    </tr>\n",
       "    <tr>\n",
       "      <th>250</th>\n",
       "      <td>2018/08/13</td>\n",
       "      <td>208.87</td>\n",
       "      <td>25864510.0000</td>\n",
       "      <td>207.700</td>\n",
       "      <td>210.9520</td>\n",
       "      <td>207.7000</td>\n",
       "    </tr>\n",
       "    <tr>\n",
       "      <th>251</th>\n",
       "      <td>2018/08/10</td>\n",
       "      <td>207.53</td>\n",
       "      <td>24592460.0000</td>\n",
       "      <td>207.360</td>\n",
       "      <td>209.1000</td>\n",
       "      <td>206.6700</td>\n",
       "    </tr>\n",
       "    <tr>\n",
       "      <th>252</th>\n",
       "      <td>2018/08/09</td>\n",
       "      <td>208.88</td>\n",
       "      <td>23389530.0000</td>\n",
       "      <td>207.280</td>\n",
       "      <td>209.7800</td>\n",
       "      <td>207.2000</td>\n",
       "    </tr>\n",
       "  </tbody>\n",
       "</table>\n",
       "<p>253 rows × 6 columns</p>\n",
       "</div>"
      ],
      "text/plain": [
       "           date   close         volume     open      high       low\n",
       "0         16:00  200.99     24,619,446  201.230  202.7600  199.2900\n",
       "1    2019/08/09  200.99  24619750.0000  201.300  202.7600  199.2900\n",
       "2    2019/08/08  203.43  27009520.0000  200.200  203.5300  199.3900\n",
       "3    2019/08/07  199.04  33364400.0000  195.410  199.5600  193.8200\n",
       "4    2019/08/06  197.00  35824790.0000  196.310  198.0670  194.0400\n",
       "5    2019/08/05  193.34  52392970.0000  197.990  198.6490  192.5800\n",
       "6    2019/08/02  204.02  40862120.0000  205.530  206.4300  201.6300\n",
       "7    2019/08/01  208.43  54017920.0000  213.900  218.0300  206.7435\n",
       "8    2019/07/31  213.04  69281360.0000  216.420  221.3700  211.3000\n",
       "9    2019/07/30  208.78  33935720.0000  208.760  210.1600  207.3100\n",
       "10   2019/07/29  209.68  21673390.0000  208.460  210.6400  208.4400\n",
       "11   2019/07/26  207.74  17618870.0000  207.480  209.7300  207.1400\n",
       "12   2019/07/25  207.02  13909560.0000  208.890  209.2400  206.7300\n",
       "13   2019/07/24  208.67  14991570.0000  207.670  209.1500  207.1700\n",
       "14   2019/07/23  208.84  18355210.0000  208.460  208.9100  207.2900\n",
       "15   2019/07/22  207.22  22277930.0000  203.650  207.2300  203.6100\n",
       "16   2019/07/19  202.59  20929310.0000  205.790  206.5000  202.3600\n",
       "17   2019/07/18  205.66  18582160.0000  204.000  205.8800  203.7000\n",
       "18   2019/07/17  203.35  14107450.0000  204.050  205.0915  203.2700\n",
       "19   2019/07/16  204.50  16866820.0000  204.590  206.1100  203.5000\n",
       "20   2019/07/15  205.21  16947420.0000  204.090  205.8700  204.0000\n",
       "21   2019/07/12  203.30  17595210.0000  202.450  204.0000  202.2000\n",
       "22   2019/07/11  201.75  20191840.0000  203.310  204.3900  201.7100\n",
       "23   2019/07/10  203.23  17897140.0000  201.850  203.7300  201.5600\n",
       "24   2019/07/09  201.24  20578020.0000  199.200  201.5100  198.8100\n",
       "25   2019/07/08  200.02  25338630.0000  200.810  201.4000  198.4100\n",
       "26   2019/07/05  204.23  17265520.0000  203.350  205.0800  202.9000\n",
       "27   2019/07/03  204.41  11362050.0000  203.280  204.4400  202.6901\n",
       "28   2019/07/02  202.73  16935220.0000  201.410  203.1323  201.3600\n",
       "29   2019/07/01  201.55  27316740.0000  203.170  204.4900  200.6500\n",
       "..          ...     ...            ...      ...       ...       ...\n",
       "223  2018/09/20  220.03  26388050.0000  220.240  222.2800  219.1500\n",
       "224  2018/09/19  218.37  26869880.0000  218.500  219.6200  215.3000\n",
       "225  2018/09/18  218.24  31495630.0000  217.790  221.8500  217.1200\n",
       "226  2018/09/17  217.88  36810120.0000  222.150  222.9500  217.2700\n",
       "227  2018/09/14  223.84  31801970.0000  225.750  226.8400  222.5220\n",
       "228  2018/09/13  226.41  41411350.0000  223.520  228.3500  222.5700\n",
       "229  2018/09/12  221.07  49118510.0000  224.940  225.0000  219.8400\n",
       "230  2018/09/11  223.85  35644510.0000  218.010  224.2990  216.5600\n",
       "231  2018/09/10  218.33  39194720.0000  220.950  221.8500  216.4700\n",
       "232  2018/09/07  221.30  37418910.0000  221.850  225.3700  220.7100\n",
       "233  2018/09/06  223.10  34121240.0000  226.230  227.3500  221.3000\n",
       "234  2018/09/05  226.87  33290830.0000  228.990  229.6700  225.1000\n",
       "235  2018/09/04  228.36  27363960.0000  228.410  229.1800  226.6300\n",
       "236  2018/08/31  227.63  43177540.0000  226.510  228.8700  226.0000\n",
       "237  2018/08/30  225.03  48696960.0000  223.250  228.2600  222.4000\n",
       "238  2018/08/29  222.98  27074260.0000  220.150  223.4900  219.4100\n",
       "239  2018/08/28  219.70  22751390.0000  219.010  220.5400  218.9200\n",
       "240  2018/08/27  217.94  20400770.0000  217.150  218.7400  216.3300\n",
       "241  2018/08/24  216.16  18457720.0000  216.600  216.9000  215.1100\n",
       "242  2018/08/23  215.49  18505780.0000  214.650  217.0500  214.6000\n",
       "243  2018/08/22  215.05  18965930.0000  214.100  216.3600  213.8400\n",
       "244  2018/08/21  215.04  25682700.0000  216.800  217.1900  214.0250\n",
       "245  2018/08/20  215.46  30149410.0000  218.100  219.1800  215.1100\n",
       "246  2018/08/17  217.58  35034410.0000  213.440  217.9500  213.1600\n",
       "247  2018/08/16  213.32  27595310.0000  211.750  213.8121  211.4700\n",
       "248  2018/08/15  210.24  28595230.0000  209.220  210.7400  208.3300\n",
       "249  2018/08/14  209.75  20679270.0000  210.155  210.5600  208.2600\n",
       "250  2018/08/13  208.87  25864510.0000  207.700  210.9520  207.7000\n",
       "251  2018/08/10  207.53  24592460.0000  207.360  209.1000  206.6700\n",
       "252  2018/08/09  208.88  23389530.0000  207.280  209.7800  207.2000\n",
       "\n",
       "[253 rows x 6 columns]"
      ]
     },
     "execution_count": 3,
     "metadata": {},
     "output_type": "execute_result"
    }
   ],
   "source": [
    "df"
   ]
  },
  {
   "cell_type": "code",
   "execution_count": 4,
   "metadata": {},
   "outputs": [],
   "source": [
    "rng=pd.date_range(start=\"2019-06-30\", end=\"2019-08-01\",freq=\"D\")"
   ]
  },
  {
   "cell_type": "code",
   "execution_count": 5,
   "metadata": {},
   "outputs": [
    {
     "data": {
      "text/plain": [
       "DatetimeIndex(['2019-06-30', '2019-07-01', '2019-07-02', '2019-07-03',\n",
       "               '2019-07-04', '2019-07-05', '2019-07-06', '2019-07-07',\n",
       "               '2019-07-08', '2019-07-09', '2019-07-10', '2019-07-11',\n",
       "               '2019-07-12', '2019-07-13', '2019-07-14', '2019-07-15',\n",
       "               '2019-07-16', '2019-07-17', '2019-07-18', '2019-07-19',\n",
       "               '2019-07-20', '2019-07-21', '2019-07-22', '2019-07-23',\n",
       "               '2019-07-24', '2019-07-25', '2019-07-26', '2019-07-27',\n",
       "               '2019-07-28', '2019-07-29', '2019-07-30', '2019-07-31',\n",
       "               '2019-08-01'],\n",
       "              dtype='datetime64[ns]', freq='D')"
      ]
     },
     "execution_count": 5,
     "metadata": {},
     "output_type": "execute_result"
    }
   ],
   "source": [
    "rng"
   ]
  },
  {
   "cell_type": "code",
   "execution_count": 6,
   "metadata": {},
   "outputs": [],
   "source": [
    "from pandas.tseries.holiday import USFederalHolidayCalendar"
   ]
  },
  {
   "cell_type": "code",
   "execution_count": 7,
   "metadata": {},
   "outputs": [],
   "source": [
    "from pandas.tseries.offsets import CustomBusinessDay"
   ]
  },
  {
   "cell_type": "code",
   "execution_count": 8,
   "metadata": {},
   "outputs": [],
   "source": [
    "usb=CustomBusinessDay(calendar=USFederalHolidayCalendar())"
   ]
  },
  {
   "cell_type": "code",
   "execution_count": 9,
   "metadata": {},
   "outputs": [
    {
     "data": {
      "text/plain": [
       "<CustomBusinessDay>"
      ]
     },
     "execution_count": 9,
     "metadata": {},
     "output_type": "execute_result"
    }
   ],
   "source": [
    "usb"
   ]
  },
  {
   "cell_type": "code",
   "execution_count": 10,
   "metadata": {},
   "outputs": [],
   "source": [
    "rng=pd.date_range(start=\"2019-06-30\", end=\"2019-08-01\",freq=usb)"
   ]
  },
  {
   "cell_type": "code",
   "execution_count": 11,
   "metadata": {},
   "outputs": [
    {
     "data": {
      "text/plain": [
       "DatetimeIndex(['2019-07-01', '2019-07-02', '2019-07-03', '2019-07-05',\n",
       "               '2019-07-08', '2019-07-09', '2019-07-10', '2019-07-11',\n",
       "               '2019-07-12', '2019-07-15', '2019-07-16', '2019-07-17',\n",
       "               '2019-07-18', '2019-07-19', '2019-07-22', '2019-07-23',\n",
       "               '2019-07-24', '2019-07-25', '2019-07-26', '2019-07-29',\n",
       "               '2019-07-30', '2019-07-31', '2019-08-01'],\n",
       "              dtype='datetime64[ns]', freq='C')"
      ]
     },
     "execution_count": 11,
     "metadata": {},
     "output_type": "execute_result"
    }
   ],
   "source": [
    "rng"
   ]
  },
  {
   "cell_type": "code",
   "execution_count": 12,
   "metadata": {},
   "outputs": [],
   "source": [
    "from pandas.tseries.holiday import Holiday,AbstractHolidayCalendar,nearest_workday"
   ]
  },
  {
   "cell_type": "code",
   "execution_count": 13,
   "metadata": {},
   "outputs": [],
   "source": [
    "class mybday(AbstractHolidayCalendar):\n",
    "    rules = [Holiday('New Years Day', month=7, day=5)]"
   ]
  },
  {
   "cell_type": "code",
   "execution_count": 14,
   "metadata": {},
   "outputs": [],
   "source": [
    "usb=CustomBusinessDay(calendar=mybday())"
   ]
  },
  {
   "cell_type": "code",
   "execution_count": 15,
   "metadata": {},
   "outputs": [],
   "source": [
    "rng=pd.date_range(start=\"2019-06-30\", end=\"2019-08-01\",freq=usb)"
   ]
  },
  {
   "cell_type": "code",
   "execution_count": 16,
   "metadata": {},
   "outputs": [
    {
     "data": {
      "text/plain": [
       "DatetimeIndex(['2019-07-01', '2019-07-02', '2019-07-03', '2019-07-04',\n",
       "               '2019-07-08', '2019-07-09', '2019-07-10', '2019-07-11',\n",
       "               '2019-07-12', '2019-07-15', '2019-07-16', '2019-07-17',\n",
       "               '2019-07-18', '2019-07-19', '2019-07-22', '2019-07-23',\n",
       "               '2019-07-24', '2019-07-25', '2019-07-26', '2019-07-29',\n",
       "               '2019-07-30', '2019-07-31', '2019-08-01'],\n",
       "              dtype='datetime64[ns]', freq='C')"
      ]
     },
     "execution_count": 16,
     "metadata": {},
     "output_type": "execute_result"
    }
   ],
   "source": [
    "rng"
   ]
  },
  {
   "cell_type": "code",
   "execution_count": 17,
   "metadata": {},
   "outputs": [],
   "source": [
    "class mybday(AbstractHolidayCalendar):\n",
    "    rules = [Holiday('New Years Day', month=7, day=5,observance=nearest_workday)]"
   ]
  },
  {
   "cell_type": "code",
   "execution_count": 18,
   "metadata": {},
   "outputs": [],
   "source": [
    "usb=CustomBusinessDay(calendar=mybday())"
   ]
  },
  {
   "cell_type": "code",
   "execution_count": 19,
   "metadata": {},
   "outputs": [],
   "source": [
    "rng=pd.date_range(start=\"2019-06-30\", end=\"2019-08-01\",freq=usb)"
   ]
  },
  {
   "cell_type": "code",
   "execution_count": 20,
   "metadata": {},
   "outputs": [
    {
     "data": {
      "text/plain": [
       "DatetimeIndex(['2019-07-01', '2019-07-02', '2019-07-03', '2019-07-04',\n",
       "               '2019-07-08', '2019-07-09', '2019-07-10', '2019-07-11',\n",
       "               '2019-07-12', '2019-07-15', '2019-07-16', '2019-07-17',\n",
       "               '2019-07-18', '2019-07-19', '2019-07-22', '2019-07-23',\n",
       "               '2019-07-24', '2019-07-25', '2019-07-26', '2019-07-29',\n",
       "               '2019-07-30', '2019-07-31', '2019-08-01'],\n",
       "              dtype='datetime64[ns]', freq='C')"
      ]
     },
     "execution_count": 20,
     "metadata": {},
     "output_type": "execute_result"
    }
   ],
   "source": [
    "rng"
   ]
  },
  {
   "cell_type": "code",
   "execution_count": 21,
   "metadata": {},
   "outputs": [
    {
     "data": {
      "text/plain": [
       "DatetimeIndex(['2019-07-01', '2019-07-02', '2019-07-03', '2019-07-04',\n",
       "               '2019-07-08', '2019-07-09', '2019-07-10', '2019-07-11',\n",
       "               '2019-07-12', '2019-07-15', '2019-07-16', '2019-07-17',\n",
       "               '2019-07-18', '2019-07-19', '2019-07-22', '2019-07-23',\n",
       "               '2019-07-24', '2019-07-25', '2019-07-26', '2019-07-29',\n",
       "               '2019-07-30', '2019-07-31', '2019-08-01'],\n",
       "              dtype='datetime64[ns]', freq='C')"
      ]
     },
     "execution_count": 21,
     "metadata": {},
     "output_type": "execute_result"
    }
   ],
   "source": [
    "from pandas.tseries.holiday import Holiday,AbstractHolidayCalendar,next_monday\n",
    "class mybday(AbstractHolidayCalendar):\n",
    "    rules = [Holiday('New Years Day', month=7, day=5,observance=next_monday)]\n",
    "usb=CustomBusinessDay(calendar=mybday())\n",
    "rng=pd.date_range(start=\"2019-06-30\", end=\"2019-08-01\",freq=usb)\n",
    "rng"
   ]
  },
  {
   "cell_type": "code",
   "execution_count": 22,
   "metadata": {},
   "outputs": [],
   "source": [
    "business_workingdays = \"Sun Mon Tue Wed Thu\""
   ]
  },
  {
   "cell_type": "code",
   "execution_count": 23,
   "metadata": {},
   "outputs": [],
   "source": [
    "b = CustomBusinessDay(weekmask=business_workingdays)"
   ]
  },
  {
   "cell_type": "code",
   "execution_count": 24,
   "metadata": {},
   "outputs": [
    {
     "data": {
      "text/plain": [
       "DatetimeIndex(['2019-06-30', '2019-07-01', '2019-07-02', '2019-07-03',\n",
       "               '2019-07-04', '2019-07-07', '2019-07-08', '2019-07-09',\n",
       "               '2019-07-10', '2019-07-11', '2019-07-14', '2019-07-15',\n",
       "               '2019-07-16', '2019-07-17', '2019-07-18', '2019-07-21',\n",
       "               '2019-07-22', '2019-07-23', '2019-07-24', '2019-07-25',\n",
       "               '2019-07-28', '2019-07-29', '2019-07-30', '2019-07-31',\n",
       "               '2019-08-01', '2019-08-04', '2019-08-05', '2019-08-06',\n",
       "               '2019-08-07', '2019-08-08'],\n",
       "              dtype='datetime64[ns]', freq='C')"
      ]
     },
     "execution_count": 24,
     "metadata": {},
     "output_type": "execute_result"
    }
   ],
   "source": [
    "pd.date_range(start=\"2019-06-30\",periods=30,freq=b)"
   ]
  },
  {
   "cell_type": "code",
   "execution_count": 25,
   "metadata": {},
   "outputs": [],
   "source": [
    "y=pd.Period(2010)"
   ]
  },
  {
   "cell_type": "code",
   "execution_count": 26,
   "metadata": {},
   "outputs": [
    {
     "data": {
      "text/plain": [
       "['__add__',\n",
       " '__class__',\n",
       " '__delattr__',\n",
       " '__dict__',\n",
       " '__dir__',\n",
       " '__doc__',\n",
       " '__eq__',\n",
       " '__format__',\n",
       " '__ge__',\n",
       " '__getattribute__',\n",
       " '__gt__',\n",
       " '__hash__',\n",
       " '__init__',\n",
       " '__init_subclass__',\n",
       " '__le__',\n",
       " '__lt__',\n",
       " '__module__',\n",
       " '__ne__',\n",
       " '__new__',\n",
       " '__radd__',\n",
       " '__reduce__',\n",
       " '__reduce_ex__',\n",
       " '__repr__',\n",
       " '__rsub__',\n",
       " '__setattr__',\n",
       " '__setstate__',\n",
       " '__sizeof__',\n",
       " '__str__',\n",
       " '__sub__',\n",
       " '__subclasshook__',\n",
       " '__unicode__',\n",
       " '__weakref__',\n",
       " '_add_delta',\n",
       " '_from_ordinal',\n",
       " '_maybe_convert_freq',\n",
       " '_typ',\n",
       " 'asfreq',\n",
       " 'day',\n",
       " 'dayofweek',\n",
       " 'dayofyear',\n",
       " 'days_in_month',\n",
       " 'daysinmonth',\n",
       " 'end_time',\n",
       " 'freq',\n",
       " 'freqstr',\n",
       " 'hour',\n",
       " 'is_leap_year',\n",
       " 'minute',\n",
       " 'month',\n",
       " 'now',\n",
       " 'ordinal',\n",
       " 'quarter',\n",
       " 'qyear',\n",
       " 'second',\n",
       " 'start_time',\n",
       " 'strftime',\n",
       " 'to_timestamp',\n",
       " 'week',\n",
       " 'weekday',\n",
       " 'weekofyear',\n",
       " 'year']"
      ]
     },
     "execution_count": 26,
     "metadata": {},
     "output_type": "execute_result"
    }
   ],
   "source": [
    "dir(y)"
   ]
  },
  {
   "cell_type": "code",
   "execution_count": 27,
   "metadata": {},
   "outputs": [
    {
     "data": {
      "text/plain": [
       "Timestamp('2010-01-01 00:00:00')"
      ]
     },
     "execution_count": 27,
     "metadata": {},
     "output_type": "execute_result"
    }
   ],
   "source": [
    "y.start_time"
   ]
  },
  {
   "cell_type": "code",
   "execution_count": 28,
   "metadata": {},
   "outputs": [
    {
     "data": {
      "text/plain": [
       "Timestamp('2010-12-31 23:59:59.999999999')"
      ]
     },
     "execution_count": 28,
     "metadata": {},
     "output_type": "execute_result"
    }
   ],
   "source": [
    "y.end_time"
   ]
  },
  {
   "cell_type": "code",
   "execution_count": 29,
   "metadata": {},
   "outputs": [],
   "source": [
    "y=pd.Period(2010,\"M\")"
   ]
  },
  {
   "cell_type": "code",
   "execution_count": 30,
   "metadata": {},
   "outputs": [
    {
     "data": {
      "text/plain": [
       "Period('2010-01', 'M')"
      ]
     },
     "execution_count": 30,
     "metadata": {},
     "output_type": "execute_result"
    }
   ],
   "source": [
    "y"
   ]
  },
  {
   "cell_type": "code",
   "execution_count": 31,
   "metadata": {},
   "outputs": [
    {
     "data": {
      "text/plain": [
       "Timestamp('2010-01-01 00:00:00')"
      ]
     },
     "execution_count": 31,
     "metadata": {},
     "output_type": "execute_result"
    }
   ],
   "source": [
    "y.start_time"
   ]
  },
  {
   "cell_type": "code",
   "execution_count": 32,
   "metadata": {},
   "outputs": [],
   "source": [
    "y=pd.Period(2010+2,\"M\")"
   ]
  },
  {
   "cell_type": "code",
   "execution_count": 33,
   "metadata": {},
   "outputs": [
    {
     "data": {
      "text/plain": [
       "Timestamp('2012-01-01 00:00:00')"
      ]
     },
     "execution_count": 33,
     "metadata": {},
     "output_type": "execute_result"
    }
   ],
   "source": [
    "y.start_time"
   ]
  },
  {
   "cell_type": "code",
   "execution_count": 34,
   "metadata": {},
   "outputs": [
    {
     "data": {
      "text/plain": [
       "Timestamp('2012-01-31 23:59:59.999999999')"
      ]
     },
     "execution_count": 34,
     "metadata": {},
     "output_type": "execute_result"
    }
   ],
   "source": [
    "y.end_time"
   ]
  },
  {
   "cell_type": "code",
   "execution_count": 35,
   "metadata": {},
   "outputs": [
    {
     "data": {
      "text/plain": [
       "Period('2012-02', 'M')"
      ]
     },
     "execution_count": 35,
     "metadata": {},
     "output_type": "execute_result"
    }
   ],
   "source": [
    "y+1"
   ]
  },
  {
   "cell_type": "code",
   "execution_count": 36,
   "metadata": {},
   "outputs": [],
   "source": [
    "m=pd.Period(2010+2,\"M\")"
   ]
  },
  {
   "cell_type": "code",
   "execution_count": 37,
   "metadata": {},
   "outputs": [
    {
     "data": {
      "text/plain": [
       "Period('2012-01', 'M')"
      ]
     },
     "execution_count": 37,
     "metadata": {},
     "output_type": "execute_result"
    }
   ],
   "source": [
    "m"
   ]
  },
  {
   "cell_type": "code",
   "execution_count": 38,
   "metadata": {},
   "outputs": [
    {
     "data": {
      "text/plain": [
       "Period('2012-02', 'M')"
      ]
     },
     "execution_count": 38,
     "metadata": {},
     "output_type": "execute_result"
    }
   ],
   "source": [
    "m+1"
   ]
  },
  {
   "cell_type": "code",
   "execution_count": 39,
   "metadata": {},
   "outputs": [],
   "source": [
    "h=pd.Period('2010-01-01  00:00:11',freq='H')"
   ]
  },
  {
   "cell_type": "code",
   "execution_count": 40,
   "metadata": {},
   "outputs": [
    {
     "data": {
      "text/plain": [
       "Period('2010-01-01 00:00', 'H')"
      ]
     },
     "execution_count": 40,
     "metadata": {},
     "output_type": "execute_result"
    }
   ],
   "source": [
    "h"
   ]
  },
  {
   "cell_type": "code",
   "execution_count": 41,
   "metadata": {},
   "outputs": [],
   "source": [
    "k=h+pd.offsets.Hour(5)"
   ]
  },
  {
   "cell_type": "code",
   "execution_count": 42,
   "metadata": {},
   "outputs": [
    {
     "data": {
      "text/plain": [
       "Period('2010-01-01 05:00', 'H')"
      ]
     },
     "execution_count": 42,
     "metadata": {},
     "output_type": "execute_result"
    }
   ],
   "source": [
    "k"
   ]
  },
  {
   "cell_type": "code",
   "execution_count": 43,
   "metadata": {},
   "outputs": [],
   "source": [
    "q=pd.Period('2017Q1')"
   ]
  },
  {
   "cell_type": "code",
   "execution_count": 44,
   "metadata": {},
   "outputs": [
    {
     "data": {
      "text/plain": [
       "Period('2017Q1', 'Q-DEC')"
      ]
     },
     "execution_count": 44,
     "metadata": {},
     "output_type": "execute_result"
    }
   ],
   "source": [
    "q"
   ]
  },
  {
   "cell_type": "code",
   "execution_count": 45,
   "metadata": {},
   "outputs": [
    {
     "data": {
      "text/plain": [
       "Period('2017Q2', 'Q-DEC')"
      ]
     },
     "execution_count": 45,
     "metadata": {},
     "output_type": "execute_result"
    }
   ],
   "source": [
    "q=pd.Period('2017Q2')\n",
    "q"
   ]
  },
  {
   "cell_type": "code",
   "execution_count": 46,
   "metadata": {},
   "outputs": [
    {
     "data": {
      "text/plain": [
       "Period('2017Q2', 'Q-JAN')"
      ]
     },
     "execution_count": 46,
     "metadata": {},
     "output_type": "execute_result"
    }
   ],
   "source": [
    "q=pd.Period('2017Q2', freq='Q-JAN')\n",
    "q"
   ]
  },
  {
   "cell_type": "code",
   "execution_count": 47,
   "metadata": {},
   "outputs": [
    {
     "data": {
      "text/plain": [
       "Timestamp('2016-05-01 00:00:00')"
      ]
     },
     "execution_count": 47,
     "metadata": {},
     "output_type": "execute_result"
    }
   ],
   "source": [
    "q.start_time"
   ]
  },
  {
   "cell_type": "code",
   "execution_count": 48,
   "metadata": {},
   "outputs": [
    {
     "data": {
      "text/plain": [
       "Period('2016-05', 'M')"
      ]
     },
     "execution_count": 48,
     "metadata": {},
     "output_type": "execute_result"
    }
   ],
   "source": [
    "q.asfreq('M',how='start')"
   ]
  },
  {
   "cell_type": "code",
   "execution_count": 49,
   "metadata": {},
   "outputs": [
    {
     "data": {
      "text/plain": [
       "Period('2016-07', 'M')"
      ]
     },
     "execution_count": 49,
     "metadata": {},
     "output_type": "execute_result"
    }
   ],
   "source": [
    "q.asfreq('M',how='end')"
   ]
  },
  {
   "cell_type": "code",
   "execution_count": 50,
   "metadata": {},
   "outputs": [
    {
     "data": {
      "text/plain": [
       "Period('2017-07-03/2017-07-09', 'W-SUN')"
      ]
     },
     "execution_count": 50,
     "metadata": {},
     "output_type": "execute_result"
    }
   ],
   "source": [
    "w = pd.Period('2017-07-05',freq='W')\n",
    "w"
   ]
  },
  {
   "cell_type": "code",
   "execution_count": 51,
   "metadata": {},
   "outputs": [
    {
     "data": {
      "text/plain": [
       "Period('2017-06-26/2017-07-02', 'W-SUN')"
      ]
     },
     "execution_count": 51,
     "metadata": {},
     "output_type": "execute_result"
    }
   ],
   "source": [
    "w-1"
   ]
  },
  {
   "cell_type": "code",
   "execution_count": 52,
   "metadata": {},
   "outputs": [
    {
     "data": {
      "text/plain": [
       "Period('2017-08-14/2017-08-20', 'W-SUN')"
      ]
     },
     "execution_count": 52,
     "metadata": {},
     "output_type": "execute_result"
    }
   ],
   "source": [
    "w2 = pd.Period('2017-08-15',freq='W')\n",
    "w2"
   ]
  },
  {
   "cell_type": "code",
   "execution_count": 53,
   "metadata": {},
   "outputs": [
    {
     "data": {
      "text/plain": [
       "<6 * Weeks: weekday=6>"
      ]
     },
     "execution_count": 53,
     "metadata": {},
     "output_type": "execute_result"
    }
   ],
   "source": [
    "w2-w"
   ]
  },
  {
   "cell_type": "code",
   "execution_count": 54,
   "metadata": {},
   "outputs": [
    {
     "data": {
      "text/plain": [
       "PeriodIndex(['2011Q1', '2011Q2', '2011Q3', '2011Q4', '2012Q1', '2012Q2',\n",
       "             '2012Q3', '2012Q4', '2013Q1', '2013Q2', '2013Q3', '2013Q4',\n",
       "             '2014Q1', '2014Q2', '2014Q3', '2014Q4', '2015Q1', '2015Q2',\n",
       "             '2015Q3', '2015Q4', '2016Q1', '2016Q2', '2016Q3', '2016Q4',\n",
       "             '2017Q1'],\n",
       "            dtype='period[Q-DEC]', freq='Q-DEC')"
      ]
     },
     "execution_count": 54,
     "metadata": {},
     "output_type": "execute_result"
    }
   ],
   "source": [
    "r = pd.period_range('2011', '2017', freq='q')\n",
    "r"
   ]
  },
  {
   "cell_type": "code",
   "execution_count": 55,
   "metadata": {},
   "outputs": [
    {
     "data": {
      "text/plain": [
       "Timestamp('2011-01-01 00:00:00')"
      ]
     },
     "execution_count": 55,
     "metadata": {},
     "output_type": "execute_result"
    }
   ],
   "source": [
    "r[0].start_time"
   ]
  },
  {
   "cell_type": "code",
   "execution_count": 56,
   "metadata": {},
   "outputs": [
    {
     "data": {
      "text/plain": [
       "Timestamp('2011-03-31 23:59:59.999999999')"
      ]
     },
     "execution_count": 56,
     "metadata": {},
     "output_type": "execute_result"
    }
   ],
   "source": [
    "r[0].end_time"
   ]
  },
  {
   "cell_type": "code",
   "execution_count": 57,
   "metadata": {},
   "outputs": [
    {
     "data": {
      "text/plain": [
       "PeriodIndex(['2011Q4', '2012Q1', '2012Q2', '2012Q3', '2012Q4', '2013Q1',\n",
       "             '2013Q2', '2013Q3', '2013Q4', '2014Q1', '2014Q2', '2014Q3',\n",
       "             '2014Q4', '2015Q1', '2015Q2', '2015Q3', '2015Q4', '2016Q1',\n",
       "             '2016Q2', '2016Q3', '2016Q4', '2017Q1', '2017Q2', '2017Q3',\n",
       "             '2017Q4'],\n",
       "            dtype='period[Q-JAN]', freq='Q-JAN')"
      ]
     },
     "execution_count": 57,
     "metadata": {},
     "output_type": "execute_result"
    }
   ],
   "source": [
    "r = pd.period_range('2011', '2017', freq='q-jan')\n",
    "r"
   ]
  },
  {
   "cell_type": "code",
   "execution_count": 58,
   "metadata": {},
   "outputs": [
    {
     "data": {
      "text/plain": [
       "Timestamp('2010-11-01 00:00:00')"
      ]
     },
     "execution_count": 58,
     "metadata": {},
     "output_type": "execute_result"
    }
   ],
   "source": [
    "r[0].start_time"
   ]
  },
  {
   "cell_type": "code",
   "execution_count": 59,
   "metadata": {},
   "outputs": [
    {
     "data": {
      "text/plain": [
       "Timestamp('2011-01-31 23:59:59.999999999')"
      ]
     },
     "execution_count": 59,
     "metadata": {},
     "output_type": "execute_result"
    }
   ],
   "source": [
    "r[0].end_time"
   ]
  },
  {
   "cell_type": "code",
   "execution_count": 60,
   "metadata": {},
   "outputs": [
    {
     "name": "stderr",
     "output_type": "stream",
     "text": [
      "/home/angicia/anaconda3/lib/python3.7/site-packages/ipykernel_launcher.py:1: FutureWarning: Creating a PeriodIndex by passing range endpoints is deprecated.  Use `pandas.period_range` instead.\n",
      "  \"\"\"Entry point for launching an IPython kernel.\n"
     ]
    },
    {
     "data": {
      "text/plain": [
       "PeriodIndex(['2016-01', '2016-04', '2016-07', '2016-10', '2017-01', '2017-04',\n",
       "             '2017-07', '2017-10', '2018-01', '2018-04'],\n",
       "            dtype='period[3M]', freq='3M')"
      ]
     },
     "execution_count": 60,
     "metadata": {},
     "output_type": "execute_result"
    }
   ],
   "source": [
    "r = pd.PeriodIndex(start='2016-01', freq='3M', periods=10)\n",
    "r"
   ]
  },
  {
   "cell_type": "code",
   "execution_count": 61,
   "metadata": {},
   "outputs": [],
   "source": [
    "import numpy as np"
   ]
  },
  {
   "cell_type": "code",
   "execution_count": 62,
   "metadata": {},
   "outputs": [],
   "source": [
    "ps = pd.Series(np.random.randn(len(r)), r)"
   ]
  },
  {
   "cell_type": "code",
   "execution_count": 63,
   "metadata": {},
   "outputs": [
    {
     "data": {
      "text/plain": [
       "2016-01   -0.576107\n",
       "2016-04   -0.974256\n",
       "2016-07    1.525281\n",
       "2016-10    1.852311\n",
       "2017-01   -0.279786\n",
       "2017-04   -0.520580\n",
       "2017-07    0.283390\n",
       "2017-10   -0.255128\n",
       "2018-01    1.021877\n",
       "2018-04    0.725162\n",
       "Freq: 3M, dtype: float64"
      ]
     },
     "execution_count": 63,
     "metadata": {},
     "output_type": "execute_result"
    }
   ],
   "source": [
    "ps"
   ]
  },
  {
   "cell_type": "code",
   "execution_count": 64,
   "metadata": {},
   "outputs": [
    {
     "data": {
      "text/plain": [
       "2016-01   -0.576107\n",
       "2016-04   -0.974256\n",
       "2016-07    1.525281\n",
       "2016-10    1.852311\n",
       "2017-01   -0.279786\n",
       "Freq: 3M, dtype: float64"
      ]
     },
     "execution_count": 64,
     "metadata": {},
     "output_type": "execute_result"
    }
   ],
   "source": [
    "ps['2016']"
   ]
  },
  {
   "cell_type": "code",
   "execution_count": 65,
   "metadata": {},
   "outputs": [
    {
     "data": {
      "text/plain": [
       "2016-01-01   -0.576107\n",
       "2016-04-01   -0.974256\n",
       "2016-07-01    1.525281\n",
       "2016-10-01    1.852311\n",
       "2017-01-01   -0.279786\n",
       "2017-04-01   -0.520580\n",
       "2017-07-01    0.283390\n",
       "2017-10-01   -0.255128\n",
       "2018-01-01    1.021877\n",
       "2018-04-01    0.725162\n",
       "Freq: QS-OCT, dtype: float64"
      ]
     },
     "execution_count": 65,
     "metadata": {},
     "output_type": "execute_result"
    }
   ],
   "source": [
    "pst = ps.to_timestamp()\n",
    "pst"
   ]
  },
  {
   "cell_type": "code",
   "execution_count": 66,
   "metadata": {},
   "outputs": [
    {
     "data": {
      "text/plain": [
       "DatetimeIndex(['2016-01-01', '2016-04-01', '2016-07-01', '2016-10-01',\n",
       "               '2017-01-01', '2017-04-01', '2017-07-01', '2017-10-01',\n",
       "               '2018-01-01', '2018-04-01'],\n",
       "              dtype='datetime64[ns]', freq='QS-OCT')"
      ]
     },
     "execution_count": 66,
     "metadata": {},
     "output_type": "execute_result"
    }
   ],
   "source": [
    "pst.index"
   ]
  },
  {
   "cell_type": "code",
   "execution_count": 67,
   "metadata": {},
   "outputs": [
    {
     "data": {
      "text/plain": [
       "2016Q1   -0.576107\n",
       "2016Q2   -0.974256\n",
       "2016Q3    1.525281\n",
       "2016Q4    1.852311\n",
       "2017Q1   -0.279786\n",
       "2017Q2   -0.520580\n",
       "2017Q3    0.283390\n",
       "2017Q4   -0.255128\n",
       "2018Q1    1.021877\n",
       "2018Q2    0.725162\n",
       "Freq: Q-DEC, dtype: float64"
      ]
     },
     "execution_count": 67,
     "metadata": {},
     "output_type": "execute_result"
    }
   ],
   "source": [
    "ps = pst.to_period()\n",
    "ps"
   ]
  },
  {
   "cell_type": "code",
   "execution_count": 68,
   "metadata": {},
   "outputs": [
    {
     "data": {
      "text/plain": [
       "PeriodIndex(['2016Q1', '2016Q2', '2016Q3', '2016Q4', '2017Q1', '2017Q2',\n",
       "             '2017Q3', '2017Q4', '2018Q1', '2018Q2'],\n",
       "            dtype='period[Q-DEC]', freq='Q-DEC')"
      ]
     },
     "execution_count": 68,
     "metadata": {},
     "output_type": "execute_result"
    }
   ],
   "source": [
    "ps.index"
   ]
  }
 ],
 "metadata": {
  "kernelspec": {
   "display_name": "Python 3",
   "language": "python",
   "name": "python3"
  },
  "language_info": {
   "codemirror_mode": {
    "name": "ipython",
    "version": 3
   },
   "file_extension": ".py",
   "mimetype": "text/x-python",
   "name": "python",
   "nbconvert_exporter": "python",
   "pygments_lexer": "ipython3",
   "version": "3.7.3"
  }
 },
 "nbformat": 4,
 "nbformat_minor": 2
}
